{
 "cells": [
  {
   "cell_type": "code",
   "execution_count": 1,
   "metadata": {},
   "outputs": [],
   "source": [
    "#cube\n",
    "def cube(x):\n",
    "    return x**3"
   ]
  },
  {
   "cell_type": "code",
   "execution_count": 2,
   "metadata": {},
   "outputs": [
    {
     "data": {
      "text/plain": [
       "64"
      ]
     },
     "execution_count": 2,
     "metadata": {},
     "output_type": "execute_result"
    }
   ],
   "source": [
    "cube(4)"
   ]
  },
  {
   "cell_type": "code",
   "execution_count": 3,
   "metadata": {},
   "outputs": [],
   "source": [
    "#function that accepts string value and prints Hello <name>!\n",
    "def greet(name):\n",
    "    return(f'Hello {name}!')"
   ]
  },
  {
   "cell_type": "code",
   "execution_count": 4,
   "metadata": {},
   "outputs": [
    {
     "data": {
      "text/plain": [
       "'Hello tanisha!'"
      ]
     },
     "execution_count": 4,
     "metadata": {},
     "output_type": "execute_result"
    }
   ],
   "source": [
    "greet('tanisha')"
   ]
  },
  {
   "cell_type": "code",
   "execution_count": 5,
   "metadata": {},
   "outputs": [],
   "source": [
    "def convert_cel_to_far():\n",
    "    Cel =input(\"Enter temperature in Celcius:\")\n",
    "    C = float(Cel)\n",
    "    F = C*(9/5) +32\n",
    "    return F"
   ]
  },
  {
   "cell_type": "code",
   "execution_count": 6,
   "metadata": {},
   "outputs": [
    {
     "ename": "KeyboardInterrupt",
     "evalue": "Interrupted by user",
     "output_type": "error",
     "traceback": [
      "\u001b[1;31m---------------------------------------------------------------------------\u001b[0m",
      "\u001b[1;31mKeyboardInterrupt\u001b[0m                         Traceback (most recent call last)",
      "\u001b[1;32m<ipython-input-6-f31d3e9f3cd9>\u001b[0m in \u001b[0;36m<module>\u001b[1;34m\u001b[0m\n\u001b[1;32m----> 1\u001b[1;33m \u001b[0mconvert_cel_to_far\u001b[0m\u001b[1;33m(\u001b[0m\u001b[1;33m)\u001b[0m\u001b[1;33m\u001b[0m\u001b[1;33m\u001b[0m\u001b[0m\n\u001b[0m",
      "\u001b[1;32m<ipython-input-5-7dbcb433bf93>\u001b[0m in \u001b[0;36mconvert_cel_to_far\u001b[1;34m()\u001b[0m\n\u001b[0;32m      1\u001b[0m \u001b[1;32mdef\u001b[0m \u001b[0mconvert_cel_to_far\u001b[0m\u001b[1;33m(\u001b[0m\u001b[1;33m)\u001b[0m\u001b[1;33m:\u001b[0m\u001b[1;33m\u001b[0m\u001b[1;33m\u001b[0m\u001b[0m\n\u001b[1;32m----> 2\u001b[1;33m     \u001b[0mCel\u001b[0m \u001b[1;33m=\u001b[0m\u001b[0minput\u001b[0m\u001b[1;33m(\u001b[0m\u001b[1;34m\"Enter temperature in Celcius:\"\u001b[0m\u001b[1;33m)\u001b[0m\u001b[1;33m\u001b[0m\u001b[1;33m\u001b[0m\u001b[0m\n\u001b[0m\u001b[0;32m      3\u001b[0m     \u001b[0mC\u001b[0m \u001b[1;33m=\u001b[0m \u001b[0mfloat\u001b[0m\u001b[1;33m(\u001b[0m\u001b[0mCel\u001b[0m\u001b[1;33m)\u001b[0m\u001b[1;33m\u001b[0m\u001b[1;33m\u001b[0m\u001b[0m\n\u001b[0;32m      4\u001b[0m     \u001b[0mF\u001b[0m \u001b[1;33m=\u001b[0m \u001b[0mC\u001b[0m\u001b[1;33m*\u001b[0m\u001b[1;33m(\u001b[0m\u001b[1;36m9\u001b[0m\u001b[1;33m/\u001b[0m\u001b[1;36m5\u001b[0m\u001b[1;33m)\u001b[0m \u001b[1;33m+\u001b[0m\u001b[1;36m32\u001b[0m\u001b[1;33m\u001b[0m\u001b[1;33m\u001b[0m\u001b[0m\n\u001b[0;32m      5\u001b[0m     \u001b[1;32mreturn\u001b[0m \u001b[0mF\u001b[0m\u001b[1;33m\u001b[0m\u001b[1;33m\u001b[0m\u001b[0m\n",
      "\u001b[1;32m~\\anaconda3\\lib\\site-packages\\ipykernel\\kernelbase.py\u001b[0m in \u001b[0;36mraw_input\u001b[1;34m(self, prompt)\u001b[0m\n\u001b[0;32m    858\u001b[0m                 \u001b[1;34m\"raw_input was called, but this frontend does not support input requests.\"\u001b[0m\u001b[1;33m\u001b[0m\u001b[1;33m\u001b[0m\u001b[0m\n\u001b[0;32m    859\u001b[0m             )\n\u001b[1;32m--> 860\u001b[1;33m         return self._input_request(str(prompt),\n\u001b[0m\u001b[0;32m    861\u001b[0m             \u001b[0mself\u001b[0m\u001b[1;33m.\u001b[0m\u001b[0m_parent_ident\u001b[0m\u001b[1;33m,\u001b[0m\u001b[1;33m\u001b[0m\u001b[1;33m\u001b[0m\u001b[0m\n\u001b[0;32m    862\u001b[0m             \u001b[0mself\u001b[0m\u001b[1;33m.\u001b[0m\u001b[0m_parent_header\u001b[0m\u001b[1;33m,\u001b[0m\u001b[1;33m\u001b[0m\u001b[1;33m\u001b[0m\u001b[0m\n",
      "\u001b[1;32m~\\anaconda3\\lib\\site-packages\\ipykernel\\kernelbase.py\u001b[0m in \u001b[0;36m_input_request\u001b[1;34m(self, prompt, ident, parent, password)\u001b[0m\n\u001b[0;32m    902\u001b[0m             \u001b[1;32mexcept\u001b[0m \u001b[0mKeyboardInterrupt\u001b[0m\u001b[1;33m:\u001b[0m\u001b[1;33m\u001b[0m\u001b[1;33m\u001b[0m\u001b[0m\n\u001b[0;32m    903\u001b[0m                 \u001b[1;31m# re-raise KeyboardInterrupt, to truncate traceback\u001b[0m\u001b[1;33m\u001b[0m\u001b[1;33m\u001b[0m\u001b[1;33m\u001b[0m\u001b[0m\n\u001b[1;32m--> 904\u001b[1;33m                 \u001b[1;32mraise\u001b[0m \u001b[0mKeyboardInterrupt\u001b[0m\u001b[1;33m(\u001b[0m\u001b[1;34m\"Interrupted by user\"\u001b[0m\u001b[1;33m)\u001b[0m \u001b[1;32mfrom\u001b[0m \u001b[1;32mNone\u001b[0m\u001b[1;33m\u001b[0m\u001b[1;33m\u001b[0m\u001b[0m\n\u001b[0m\u001b[0;32m    905\u001b[0m             \u001b[1;32mexcept\u001b[0m \u001b[0mException\u001b[0m \u001b[1;32mas\u001b[0m \u001b[0me\u001b[0m\u001b[1;33m:\u001b[0m\u001b[1;33m\u001b[0m\u001b[1;33m\u001b[0m\u001b[0m\n\u001b[0;32m    906\u001b[0m                 \u001b[0mself\u001b[0m\u001b[1;33m.\u001b[0m\u001b[0mlog\u001b[0m\u001b[1;33m.\u001b[0m\u001b[0mwarning\u001b[0m\u001b[1;33m(\u001b[0m\u001b[1;34m\"Invalid Message:\"\u001b[0m\u001b[1;33m,\u001b[0m \u001b[0mexc_info\u001b[0m\u001b[1;33m=\u001b[0m\u001b[1;32mTrue\u001b[0m\u001b[1;33m)\u001b[0m\u001b[1;33m\u001b[0m\u001b[1;33m\u001b[0m\u001b[0m\n",
      "\u001b[1;31mKeyboardInterrupt\u001b[0m: Interrupted by user"
     ]
    }
   ],
   "source": [
    "convert_cel_to_far()"
   ]
  },
  {
   "cell_type": "code",
   "execution_count": null,
   "metadata": {},
   "outputs": [],
   "source": [
    "def convert_far_to_cel():\n",
    "    Far = input(\"Enter temperature in Farenheit:\")\n",
    "    F = float(Far)\n",
    "    C = (F-32)*(5/9)\n",
    "    return C"
   ]
  },
  {
   "cell_type": "code",
   "execution_count": null,
   "metadata": {},
   "outputs": [],
   "source": [
    "convert_far_to_cel()"
   ]
  },
  {
   "cell_type": "code",
   "execution_count": null,
   "metadata": {},
   "outputs": [],
   "source": [
    "40/9"
   ]
  },
  {
   "cell_type": "code",
   "execution_count": null,
   "metadata": {},
   "outputs": [],
   "source": [
    "n = 100\n",
    "while n< 105:\n",
    "    n = n+1\n",
    "    print(n)"
   ]
  },
  {
   "cell_type": "code",
   "execution_count": null,
   "metadata": {},
   "outputs": [],
   "source": [
    "for i in range(0,4):\n",
    "    for j in range(10,14):\n",
    "        print (i,j)"
   ]
  },
  {
   "cell_type": "code",
   "execution_count": null,
   "metadata": {},
   "outputs": [],
   "source": [
    "for i in range(2,11):\n",
    "    print(i)"
   ]
  },
  {
   "cell_type": "code",
   "execution_count": null,
   "metadata": {},
   "outputs": [],
   "source": [
    "n = 2\n",
    "\n",
    "while n<11:\n",
    "    print(n)\n",
    "    n+=1"
   ]
  },
  {
   "cell_type": "code",
   "execution_count": null,
   "metadata": {},
   "outputs": [],
   "source": [
    "def doubles(number):\n",
    "    return number * 2"
   ]
  },
  {
   "cell_type": "code",
   "execution_count": null,
   "metadata": {},
   "outputs": [],
   "source": [
    "doubles(5)"
   ]
  },
  {
   "cell_type": "code",
   "execution_count": null,
   "metadata": {},
   "outputs": [],
   "source": [
    "for i in range(1,4):\n",
    "    num = 2\n",
    "    print(doubles(num))    \n",
    "    i+=1\n",
    "    num = doubles(num)\n",
    "    num = num *2"
   ]
  },
  {
   "cell_type": "code",
   "execution_count": null,
   "metadata": {},
   "outputs": [],
   "source": [
    "for i in range(1,4):\n",
    "    doubles(num)\n",
    "    print(i)"
   ]
  },
  {
   "cell_type": "code",
   "execution_count": null,
   "metadata": {},
   "outputs": [],
   "source": [
    "my_num = 2\n",
    "for i in range(0, 3):\n",
    "    my_num = doubles(my_num)\n",
    "    print(my_num)"
   ]
  },
  {
   "cell_type": "code",
   "execution_count": null,
   "metadata": {},
   "outputs": [],
   "source": [
    "# invest\n",
    "def invest():\n",
    "    principal = float(input(\"Enter the principal amount:\"))\n",
    "    rate = float(input(\"Enter the rate in % term:\"))\n",
    "    time = int(input(\"Enter the  time in years:\"))\n",
    "    for i in range(1,time+1):\n",
    "        interest = (principal*rate)/100\n",
    "        principal = principal+interest\n",
    "        print(f' year round(principal,2))"
   ]
  },
  {
   "cell_type": "code",
   "execution_count": null,
   "metadata": {},
   "outputs": [],
   "source": [
    "invest()"
   ]
  },
  {
   "cell_type": "code",
   "execution_count": 13,
   "metadata": {},
   "outputs": [
    {
     "name": "stdout",
     "output_type": "stream",
     "text": [
      "Enter a word:manisha\n",
      "length is more than 5\n"
     ]
    }
   ],
   "source": [
    "word = input(\"Enter a word:\")\n",
    "\n",
    "if len(word)<5:\n",
    "    print(\"length is less than 5\")\n",
    "elif len(word)>5:\n",
    "    print(\"length is more than 5\")\n",
    "elif len(word)==5:\n",
    "    print(\"word is 5 characters long\")"
   ]
  },
  {
   "cell_type": "code",
   "execution_count": 19,
   "metadata": {},
   "outputs": [
    {
     "name": "stdout",
     "output_type": "stream",
     "text": [
      "I'm thinkihg of a number guess which one\n",
      "Enter:34\n",
      "wrong guess\n"
     ]
    }
   ],
   "source": [
    "print(\"I'm thinkihg of a number guess which one\")\n",
    "num = input(\"Enter:\")\n",
    "guess = int(num)\n",
    "if (guess==3):\n",
    "    print(\"Correct guess\")\n",
    "elif guess!=3:\n",
    "    print(\"wrong guess\")"
   ]
  },
  {
   "cell_type": "code",
   "execution_count": 29,
   "metadata": {},
   "outputs": [
    {
     "name": "stdout",
     "output_type": "stream",
     "text": [
      "Enter a number:10\n",
      "1 is a factor of 10\n",
      "2 is a factor of 10\n",
      "5 is a factor of 10\n",
      "10 is a factor of 10\n"
     ]
    }
   ],
   "source": [
    "f = input(\"Enter a number:\")\n",
    "factor = int(f)\n",
    "for i in range(1,factor+1):\n",
    "    if(factor%i==0):\n",
    "        print(f'{i} is a factor of {factor}')\n",
    "    "
   ]
  },
  {
   "cell_type": "code",
   "execution_count": 11,
   "metadata": {},
   "outputs": [
    {
     "name": "stdout",
     "output_type": "stream",
     "text": [
      "Enter a character:r\n",
      "Enter a character:q\n"
     ]
    }
   ],
   "source": [
    "\n",
    "while True:\n",
    "    ip = input(\"Enter a character:\")\n",
    "    if (ip=='q') or (ip=='Q'):\n",
    "        break"
   ]
  },
  {
   "cell_type": "code",
   "execution_count": 38,
   "metadata": {},
   "outputs": [
    {
     "name": "stdout",
     "output_type": "stream",
     "text": [
      "1\n",
      "2\n",
      "4\n",
      "5\n",
      "7\n",
      "8\n",
      "10\n",
      "11\n",
      "13\n",
      "14\n",
      "16\n",
      "17\n",
      "19\n",
      "20\n",
      "22\n",
      "23\n",
      "25\n",
      "26\n",
      "28\n",
      "29\n",
      "31\n",
      "32\n",
      "34\n",
      "35\n",
      "37\n",
      "38\n",
      "40\n",
      "41\n",
      "43\n",
      "44\n",
      "46\n",
      "47\n",
      "49\n",
      "50\n"
     ]
    }
   ],
   "source": [
    "for i in range(1,51):\n",
    "    if(i%3!=0):\n",
    "        print(i)\n",
    "    else:\n",
    "        continue"
   ]
  },
  {
   "cell_type": "code",
   "execution_count": 3,
   "metadata": {},
   "outputs": [
    {
     "name": "stdout",
     "output_type": "stream",
     "text": [
      "Enter an integer:o\n",
      "Try again!\n",
      "Enter an integer:9\n",
      "9\n"
     ]
    }
   ],
   "source": [
    "while True:\n",
    "    try:\n",
    "        integer = int(input(\"Enter an integer:\"))\n",
    "        print(integer)\n",
    "        break\n",
    "    except ValueError:\n",
    "        print(\"Try again!\")"
   ]
  },
  {
   "cell_type": "code",
   "execution_count": 24,
   "metadata": {},
   "outputs": [
    {
     "name": "stdout",
     "output_type": "stream",
     "text": [
      "Enter a string:t\n",
      "t\n",
      "Enter an integer value:1\n",
      "Please enter an index within bounds\n"
     ]
    }
   ],
   "source": [
    "str_ip = input(\"Enter a string:\")\n",
    "print(str_ip)\n",
    "\n",
    "try:\n",
    "    index_ip = int(input(\"Enter an integer value:\"))\n",
    "    print(str_ip[index_ip])\n",
    "except ValueError:\n",
    "    print(\"Please enter an integer\")\n",
    "except IndexError:\n",
    "    print(\"Please enter an index within bounds\")"
   ]
  },
  {
   "cell_type": "code",
   "execution_count": 87,
   "metadata": {},
   "outputs": [],
   "source": [
    "#does not work\n",
    "def coin_flip():\n",
    "    if random.randint(0, 1) == '0':\n",
    "        return 'heads'\n",
    "    else:\n",
    "        return 'tails'"
   ]
  },
  {
   "cell_type": "code",
   "execution_count": 102,
   "metadata": {},
   "outputs": [
    {
     "data": {
      "text/plain": [
       "'tails'"
      ]
     },
     "execution_count": 102,
     "metadata": {},
     "output_type": "execute_result"
    }
   ],
   "source": [
    "coin_flip()"
   ]
  },
  {
   "cell_type": "code",
   "execution_count": 115,
   "metadata": {},
   "outputs": [
    {
     "name": "stdout",
     "output_type": "stream",
     "text": [
      "0\n",
      "10000\n",
      "Heads to Tails ratio is 0.0\n"
     ]
    }
   ],
   "source": [
    "#does not work - biased to tails why\n",
    "heads_counter = 0\n",
    "tails_counter = 0\n",
    "\n",
    "for trials in range(10_000):\n",
    "    if coin_flip() == \"heads\":\n",
    "        heads_counter = heads_counter +1\n",
    "    else:\n",
    "        tails_counter = tails_counter +1\n",
    "        \n",
    "print(heads_counter)\n",
    "print(tails_counter)\n",
    "\n",
    "ratio = heads_counter/tails_counter\n",
    "print(f'Heads to Tails ratio is {ratio}')"
   ]
  },
  {
   "cell_type": "code",
   "execution_count": 136,
   "metadata": {},
   "outputs": [],
   "source": [
    "#probability that random() is < than n is n\n",
    "def unfair_coin_flip(probability_of_tails):\n",
    "    if random.random() < probability_of_tails:\n",
    "        return \"tails\"\n",
    "    else:\n",
    "        return \"heads\""
   ]
  },
  {
   "cell_type": "code",
   "execution_count": 168,
   "metadata": {},
   "outputs": [
    {
     "data": {
      "text/plain": [
       "'tails'"
      ]
     },
     "execution_count": 168,
     "metadata": {},
     "output_type": "execute_result"
    }
   ],
   "source": [
    "unfair_coin_flip(0.9)"
   ]
  },
  {
   "cell_type": "code",
   "execution_count": 169,
   "metadata": {},
   "outputs": [],
   "source": [
    "def roll():\n",
    "    return random.randint(1,6)"
   ]
  },
  {
   "cell_type": "code",
   "execution_count": 188,
   "metadata": {},
   "outputs": [
    {
     "data": {
      "text/plain": [
       "4"
      ]
     },
     "execution_count": 188,
     "metadata": {},
     "output_type": "execute_result"
    }
   ],
   "source": [
    "roll()"
   ]
  },
  {
   "cell_type": "code",
   "execution_count": 15,
   "metadata": {},
   "outputs": [
    {
     "ename": "NameError",
     "evalue": "name 'roll' is not defined",
     "output_type": "error",
     "traceback": [
      "\u001b[1;31m---------------------------------------------------------------------------\u001b[0m",
      "\u001b[1;31mNameError\u001b[0m                                 Traceback (most recent call last)",
      "\u001b[1;32m<ipython-input-15-e82eda7a2e1f>\u001b[0m in \u001b[0;36m<module>\u001b[1;34m\u001b[0m\n\u001b[0;32m      2\u001b[0m \u001b[0mroll_counter\u001b[0m \u001b[1;33m=\u001b[0m \u001b[1;36m0\u001b[0m\u001b[1;33m\u001b[0m\u001b[1;33m\u001b[0m\u001b[0m\n\u001b[0;32m      3\u001b[0m \u001b[1;32mfor\u001b[0m \u001b[0mrolls\u001b[0m \u001b[1;32min\u001b[0m \u001b[0mrange\u001b[0m\u001b[1;33m(\u001b[0m\u001b[1;36m10_000\u001b[0m\u001b[1;33m)\u001b[0m\u001b[1;33m:\u001b[0m\u001b[1;33m\u001b[0m\u001b[1;33m\u001b[0m\u001b[0m\n\u001b[1;32m----> 4\u001b[1;33m     \u001b[0mroll_counter\u001b[0m \u001b[1;33m+=\u001b[0m \u001b[0mroll\u001b[0m\u001b[1;33m(\u001b[0m\u001b[1;33m)\u001b[0m\u001b[1;33m\u001b[0m\u001b[1;33m\u001b[0m\u001b[0m\n\u001b[0m\u001b[0;32m      5\u001b[0m \u001b[0mprint\u001b[0m\u001b[1;33m(\u001b[0m\u001b[1;33m(\u001b[0m\u001b[0mroll_counter\u001b[0m\u001b[1;33m/\u001b[0m\u001b[1;36m10000\u001b[0m\u001b[1;33m)\u001b[0m\u001b[1;33m)\u001b[0m\u001b[1;33m\u001b[0m\u001b[1;33m\u001b[0m\u001b[0m\n",
      "\u001b[1;31mNameError\u001b[0m: name 'roll' is not defined"
     ]
    }
   ],
   "source": [
    "import numpy as np\n",
    "roll_counter = 0\n",
    "for rolls in range(10_000):\n",
    "    roll_counter += roll()\n",
    "print((roll_counter/10000))"
   ]
  },
  {
   "cell_type": "code",
   "execution_count": 232,
   "metadata": {},
   "outputs": [],
   "source": []
  },
  {
   "cell_type": "code",
   "execution_count": 247,
   "metadata": {},
   "outputs": [
    {
     "data": {
      "text/plain": [
       "tuple"
      ]
     },
     "execution_count": 247,
     "metadata": {},
     "output_type": "execute_result"
    }
   ],
   "source": [
    "cardinal_numbers = (\"first\", \"second\", \"third\")\n",
    "type(cardinal_numbers)"
   ]
  },
  {
   "cell_type": "code",
   "execution_count": 248,
   "metadata": {},
   "outputs": [
    {
     "name": "stdout",
     "output_type": "stream",
     "text": [
      "second\n"
     ]
    }
   ],
   "source": [
    "print(cardinal_numbers[1])"
   ]
  },
  {
   "cell_type": "code",
   "execution_count": 251,
   "metadata": {},
   "outputs": [
    {
     "name": "stdout",
     "output_type": "stream",
     "text": [
      "first second third\n",
      "<class 'str'>\n"
     ]
    }
   ],
   "source": [
    "#tuple unpacking\n",
    "position1, position2, position3 = cardinal_numbers\n",
    "print(position1,position2,position3)\n",
    "print(type(position1))"
   ]
  },
  {
   "cell_type": "code",
   "execution_count": 262,
   "metadata": {},
   "outputs": [
    {
     "data": {
      "text/plain": [
       "('t', 'a', 'n', 'i', 's', 'h', 'a')"
      ]
     },
     "execution_count": 262,
     "metadata": {},
     "output_type": "execute_result"
    }
   ],
   "source": [
    "my_full_name = \"tanisha\"\n",
    "my_name = tuple(my_full_name)\n",
    "my_name"
   ]
  },
  {
   "cell_type": "code",
   "execution_count": 263,
   "metadata": {},
   "outputs": [
    {
     "data": {
      "text/plain": [
       "False"
      ]
     },
     "execution_count": 263,
     "metadata": {},
     "output_type": "execute_result"
    }
   ],
   "source": [
    "\"x\" in my_name"
   ]
  },
  {
   "cell_type": "code",
   "execution_count": 267,
   "metadata": {},
   "outputs": [
    {
     "data": {
      "text/plain": [
       "('a', 'n', 'i', 's', 'h', 'a')"
      ]
     },
     "execution_count": 267,
     "metadata": {},
     "output_type": "execute_result"
    }
   ],
   "source": [
    "new_my_name = my_name[1:]\n",
    "new_my_name"
   ]
  },
  {
   "cell_type": "code",
   "execution_count": 273,
   "metadata": {},
   "outputs": [
    {
     "name": "stdout",
     "output_type": "stream",
     "text": [
      "pizza\n"
     ]
    },
    {
     "data": {
      "text/plain": [
       "['rice', 'beans', 'broccoli', 'bread', 'pizza']"
      ]
     },
     "execution_count": 273,
     "metadata": {},
     "output_type": "execute_result"
    }
   ],
   "source": [
    "food = ['rice', 'beans']\n",
    "food.append('broccoli')\n",
    "food.extend(['bread','pizza'])\n",
    "print(food[-1])\n",
    "food\n"
   ]
  },
  {
   "cell_type": "code",
   "execution_count": 283,
   "metadata": {},
   "outputs": [
    {
     "data": {
      "text/plain": [
       "[4, 6, 13]"
      ]
     },
     "execution_count": 283,
     "metadata": {},
     "output_type": "execute_result"
    }
   ],
   "source": [
    "string = 'eggs, fruit, orange juice'\n",
    "breakfast = string.split(',')\n",
    "breakfast\n",
    "len(breakfast)\n",
    "\n",
    "lenghts = [len(value) for value in breakfast]\n",
    "lenghts"
   ]
  },
  {
   "cell_type": "code",
   "execution_count": 8,
   "metadata": {},
   "outputs": [
    {
     "data": {
      "text/plain": [
       "[1, 4, 9, 16, 25, 36]"
      ]
     },
     "execution_count": 8,
     "metadata": {},
     "output_type": "execute_result"
    }
   ],
   "source": [
    "# copy of lists can be made by using indexing page 258\n",
    "\n",
    "l = [1,2,3,4,5,6]\n",
    "\n",
    "lsquared = [i**2 for i in l]\n",
    "lsquared"
   ]
  },
  {
   "cell_type": "code",
   "execution_count": 10,
   "metadata": {},
   "outputs": [
    {
     "data": {
      "text/plain": [
       "((1, 2), (3, 4))"
      ]
     },
     "execution_count": 10,
     "metadata": {},
     "output_type": "execute_result"
    }
   ],
   "source": [
    "data = ((1,2),(3,4))\n",
    "data"
   ]
  },
  {
   "cell_type": "code",
   "execution_count": 57,
   "metadata": {},
   "outputs": [
    {
     "name": "stdout",
     "output_type": "stream",
     "text": [
      "Row 1 sum: 3\n",
      "Row 2 sum: 7\n"
     ]
    }
   ],
   "source": [
    "#261\n",
    "\n",
    "data_list = [(i+j) for (i,j) in data]\n",
    "len(data_list)\n",
    "for n in range(1,len(data_list)+1):\n",
    "    print(f'Row {n} sum: {data_list[n-1]}')\n",
    "#     print(data_list[n-1])"
   ]
  },
  {
   "cell_type": "code",
   "execution_count": 26,
   "metadata": {},
   "outputs": [
    {
     "name": "stdout",
     "output_type": "stream",
     "text": [
      "Row (1, 2) sum:\n",
      "3\n",
      "Row (3, 4) sum:\n",
      "7\n"
     ]
    }
   ],
   "source": [
    "# for i in data:\n",
    "#     print(f'Row i sum:')\n",
    "#     print(i[0]+i[1])"
   ]
  },
  {
   "cell_type": "code",
   "execution_count": 85,
   "metadata": {},
   "outputs": [
    {
     "name": "stdout",
     "output_type": "stream",
     "text": [
      "ccopied list : [4, 3, 2, 1, 9]\n",
      "original list : [4, 3, 2, 1]\n",
      "sorted original list:[1, 2, 3, 4]\n",
      "Edited original list : [1, 2, 3, 4]\n",
      "Edited copied list : [100, 3, 2, 1, 9]\n"
     ]
    }
   ],
   "source": [
    "numbers = [4,3,2,1]\n",
    "copy = numbers[:]\n",
    "copy\n",
    "copy.append(9)\n",
    "print(f'ccopied list : {copy}')\n",
    "print(f'original list : {numbers}')\n",
    "\n",
    "numbers.sort()\n",
    "print(f'sorted original list:{numbers}')\n",
    "\n",
    "#trying to change the first element of the original list\n",
    "copy[0]=100\n",
    "print(f'Edited original list : {numbers}')\n",
    "print(f'Edited copied list : {copy}')\n",
    "#original list does not reflect changes made to the OG list"
   ]
  },
  {
   "cell_type": "code",
   "execution_count": 92,
   "metadata": {},
   "outputs": [
    {
     "name": "stdout",
     "output_type": "stream",
     "text": [
      "ccopied list : [[4, 3, 2, 1], [1, 2, 3, 4]]\n",
      "original list : [[4, 3, 2, 1], [1, 2, 3, 4]]\n",
      "Edited original list : [[100, 3, 2, 1], [1, 2, 3, 4]]\n",
      "Edited copied list : [[100, 3, 2, 1], [1, 2, 3, 4]]\n"
     ]
    }
   ],
   "source": [
    "Nnumbers = [[4,3,2,1],[1,2,3,4]]\n",
    "Ncopy = Nnumbers[:]\n",
    "Ncopy\n",
    "print(f'ccopied list : {Ncopy}')\n",
    "print(f'original list : {Nnumbers}')\n",
    "\n",
    "#trying to change the first element of the original list\n",
    "Ncopy[0][0]=100\n",
    "print(f'Edited original list : {Nnumbers}')\n",
    "print(f'Edited copied list : {Ncopy}')\n",
    "#original reflects changes made to the copied list - shallow copy\n"
   ]
  },
  {
   "cell_type": "code",
   "execution_count": 94,
   "metadata": {},
   "outputs": [
    {
     "name": "stdout",
     "output_type": "stream",
     "text": [
      "original list : [[1, 2, 3, 4], [100, 3, 2, 1]]\n",
      "ccopied list : [[100, 3, 2, 1], [1, 2, 3, 4]]\n"
     ]
    }
   ],
   "source": [
    "Nnumbers.sort()\n",
    "print(f'original list : {Nnumbers}')\n",
    "print(f'ccopied list : {Ncopy}')\n"
   ]
  },
  {
   "cell_type": "code",
   "execution_count": 16,
   "metadata": {},
   "outputs": [
    {
     "data": {
      "text/plain": [
       "([2175, 19627, 10566, 7802, 5879, 19535, 11701],\n",
       " [37704, 39849, 40732, 37000, 35551, 40569, 40500])"
      ]
     },
     "execution_count": 16,
     "metadata": {},
     "output_type": "execute_result"
    }
   ],
   "source": [
    "universities = [\n",
    "   ['Cali Inst of Tech', 2175, 37704],\n",
    "   ['Harvard', 19627, 39849],\n",
    "   ['MIT',10566,40732],\n",
    "   ['Princeton', 7802, 37000],\n",
    "   ['Rice', 5879, 35551],\n",
    "   ['Stanford', 19535, 40569],\n",
    "   ['Yale', 11701, 40500]\n",
    "]\n",
    "\n",
    "def enrollment_stats(universities):\n",
    "    \n",
    "    enrolled_students = []\n",
    "    tuition_fee = []\n",
    "    \n",
    "    for uni in universities:\n",
    "        enrolled_students.append(uni[1])\n",
    "        tuition_fee.append(uni[2])\n",
    "#     print(f'The student details :{enrolled_students}')\n",
    "#     print(f'The fee details :{tuition_fee}')\n",
    "    return enrolled_students, tuition_fee\n",
    "\n",
    "enrollment_stats(universities)"
   ]
  },
  {
   "cell_type": "code",
   "execution_count": 44,
   "metadata": {},
   "outputs": [],
   "source": [
    "def mean(list_arg):\n",
    "    add = 0\n",
    "    for i in range(0,len(list_arg)):\n",
    "        add = add+list_arg[i]\n",
    "    return(add/len(list_arg))\n",
    "\n",
    "# a = [[2175, 19627, 10566, 7802, 5879, 19535, 11701],[12,321,1234]]\n",
    "# #wont support multiple lists or nested lists\n",
    "# mean(a)\n",
    "# print(a)\n"
   ]
  },
  {
   "cell_type": "code",
   "execution_count": 58,
   "metadata": {},
   "outputs": [
    {
     "name": "stdout",
     "output_type": "stream",
     "text": [
      "\n",
      "\n",
      "Total students:   77285\n",
      "Total tuition:  $ 271905\n",
      "\n",
      "\n",
      "Student mean:   11040.71\n",
      "Student median: 10566\n",
      "\n",
      "\n",
      "Tuition mean:   $ 38843.57\n",
      "Tuition median: $ 39849\n",
      "\n",
      "\n"
     ]
    }
   ],
   "source": [
    "\n",
    "import numpy as np\n",
    "def median(list_arg):\n",
    "    sorted_list_arg = list(np.sort(list_arg))\n",
    "    \n",
    "    if len(sorted_list_arg)%2==0:\n",
    "        median1 = sorted_list_arg[len(sorted_list_arg)//2]\n",
    "        median2 = sorted_list_arg[(len(sorted_list_arg)//2)-1]\n",
    "        median = (median1+median2)/2\n",
    "    else:\n",
    "        median = sorted_list_arg[len(sorted_list_arg)//2]\n",
    "#     print(f'sorted list is {sorted_list_arg}')\n",
    "    return(median)\n",
    "\n",
    "# we have to use floor division to avoid error\n",
    "# a1 = [2175, 19627, 10566, 7802, 5879, 19535, 11701]\n",
    "# median(a1)\n",
    "\n",
    "totals = enrollment_stats(universities)\n",
    "\n",
    "print(\"\\n\")\n",
    "print(f'Total students:   {sum(totals[0])}')\n",
    "print(f'Total tuition:  $ {sum(totals[1])}')\n",
    "print(\"\\n\")\n",
    "print(f'Student mean:   {round(mean(totals[0]),2)}')\n",
    "print(f'Student median: {median(totals[0])}')\n",
    "print(\"\\n\")\n",
    "print(f'Tuition mean:   $ {round(mean(totals[1]),2)}')\n",
    "print(f'Tuition median: $ {median(totals[1])}')\n",
    "print(\"\\n\")"
   ]
  },
  {
   "cell_type": "code",
   "execution_count": 49,
   "metadata": {},
   "outputs": [
    {
     "name": "stdout",
     "output_type": "stream",
     "text": [
      "<class 'dict'>\n"
     ]
    }
   ],
   "source": [
    "captains = dict()\n",
    "print(type(captains))\n",
    "\n",
    "captains['Enterprise'] = 'Picard'\n",
    "captains['Voyager'] = 'Janeway'\n",
    "captains['Defiant'] = 'Sisko'"
   ]
  },
  {
   "cell_type": "code",
   "execution_count": 56,
   "metadata": {},
   "outputs": [
    {
     "name": "stdout",
     "output_type": "stream",
     "text": [
      "True\n",
      "True\n",
      "{'Enterprise': 'Picard', 'Voyager': 'Janeway', 'Defiant': 'Sisko', 'Discovery': 'unknown'}\n"
     ]
    }
   ],
   "source": [
    "options = ['Enterprise', 'Discovery']\n",
    "\n",
    "for o in options:\n",
    "    if o in captains:\n",
    "        print(True)\n",
    "    else:\n",
    "        captains[o] = 'unknown'\n",
    "\n",
    "print(captains)"
   ]
  },
  {
   "cell_type": "code",
   "execution_count": 70,
   "metadata": {},
   "outputs": [
    {
     "name": "stdout",
     "output_type": "stream",
     "text": [
      "The Enterprise is captained by Picard\n",
      "The Voyager is captained by Janeway\n",
      "The Defiant is captained by Sisko\n",
      "The Discovery is captained by unknown\n"
     ]
    }
   ],
   "source": [
    "for key,value in captains.items():\n",
    "    print(f'The {key} is captained by {value}')"
   ]
  },
  {
   "cell_type": "code",
   "execution_count": 71,
   "metadata": {},
   "outputs": [],
   "source": [
    "del captains['Discovery']"
   ]
  },
  {
   "cell_type": "code",
   "execution_count": 72,
   "metadata": {},
   "outputs": [
    {
     "name": "stdout",
     "output_type": "stream",
     "text": [
      "{'Enterprise': 'Picard', 'Voyager': 'Janeway', 'Defiant': 'Sisko'}\n"
     ]
    }
   ],
   "source": [
    "print(captains)"
   ]
  },
  {
   "cell_type": "code",
   "execution_count": 136,
   "metadata": {},
   "outputs": [
    {
     "name": "stdout",
     "output_type": "stream",
     "text": [
      "Arizona\n",
      "Enter the capital city of the state Arizona\n",
      "tanisha\n",
      "Incorrect, try again\n",
      "phoenix\n",
      "Correct entry\n",
      "Goodbye\n"
     ]
    }
   ],
   "source": [
    "# Capital City Loop\n",
    "#275\n",
    "import random\n",
    "capitals_dict ={\n",
    "    'Alabama': 'Montgomery',\n",
    "    'Alaska': 'Juneau',\n",
    "    'Arizona': 'Phoenix',\n",
    "    'Arkansas': 'Little Rock',\n",
    "    'California': 'Sacramento',\n",
    "    'Colorado': 'Denver',\n",
    "    'Connecticut': 'Hartford',\n",
    "    'Delaware': 'Dover',\n",
    "    'Florida': 'Tallahasse',\n",
    "    'Georgia': 'Atlanta'                                                                                                          \n",
    "}\n",
    "\n",
    "random_state = random.choice(list(capitals_dict.keys()))\n",
    "print(random_state)\n",
    "capital_random_state = capitals_dict[random_state]\n",
    "print(f'Enter the capital city of the state {random_state}')\n",
    "while True:  \n",
    "    user_input = input()\n",
    "    if user_input.lower() == capital_random_state.lower():\n",
    "        print('Correct entry')\n",
    "        print('Goodbye')\n",
    "        break\n",
    "    elif user_input.lower() == 'exit':   \n",
    "        print('Incorrect')\n",
    "        break \n",
    "    else:\n",
    "        print('Incorrect, try again')"
   ]
  },
  {
   "cell_type": "code",
   "execution_count": 134,
   "metadata": {},
   "outputs": [
    {
     "name": "stdout",
     "output_type": "stream",
     "text": [
      "fossil\n",
      "meows\n",
      "furry\n",
      "beneath\n",
      "extravagantly\n"
     ]
    }
   ],
   "source": [
    "import random\n",
    "nouns = [\n",
    "    \"fossil\",\n",
    "    \"horse\",\n",
    "    \"aardvark\",\n",
    "    \"judge\",\n",
    "    \"chef\",\n",
    "    \"mango\",\n",
    "    \"extrovert\",\n",
    "    \"gorilla\",\n",
    "]\n",
    "verb = [\n",
    "    \"kicks\",\n",
    "    \"jingles\",\n",
    "    \"bounces\",\n",
    "    \"slurps\",\n",
    "    \"meows\",\n",
    "    \"explodes\",\n",
    "    \"curdles\",\n",
    "]\n",
    "adjective = [\n",
    "    \"furry\",\n",
    "    \"balding\",\n",
    "    \"incredulous\",\n",
    "    \"fragrant\",\n",
    "    \"exuberant\",\n",
    "    \"glistening\",\n",
    "]\n",
    "preposition = [\n",
    "    \"against\",\n",
    "    \"after\",\n",
    "    \"into\",\n",
    "    \"beneath\",\n",
    "    \"upon\",\n",
    "    \"for\",\n",
    "    \"in\",\n",
    "    \"like\",\n",
    "    \"over\",\n",
    "    \"within\",\n",
    "]\n",
    "adverb = [\n",
    "    \"curiously\",\n",
    "    \"extravagantly\",\n",
    "    \"tantalizingly\",\n",
    "    \"furiously\",\n",
    "    \"sensuously\",\n",
    "]\n",
    "\n",
    "random_noun = random.choice(nouns)\n",
    "print(random_noun)\n",
    "\n",
    "random_verb = random.choice(verb)\n",
    "print(random_verb)\n",
    "\n",
    "random_adjective = random.choice(adjective)\n",
    "print(random_adjective)\n",
    "\n",
    "random_preposition = random.choice(preposition)\n",
    "print(random_preposition)\n",
    "\n",
    "random_adverb = random.choice(adverb)\n",
    "print(random_adverb)\n",
    "\n",
    "def poem():\n",
    "    print('a|an')\n",
    "\n"
   ]
  },
  {
   "cell_type": "code",
   "execution_count": null,
   "metadata": {},
   "outputs": [],
   "source": [
    "#Explorting OOPS concepts - Classes"
   ]
  },
  {
   "cell_type": "code",
   "execution_count": 1,
   "metadata": {},
   "outputs": [],
   "source": [
    "class Dog:\n",
    "    pass"
   ]
  },
  {
   "cell_type": "code",
   "execution_count": 2,
   "metadata": {},
   "outputs": [
    {
     "data": {
      "text/plain": [
       "<__main__.Dog at 0x23ff54cba30>"
      ]
     },
     "execution_count": 2,
     "metadata": {},
     "output_type": "execute_result"
    }
   ],
   "source": [
    "Dog()"
   ]
  },
  {
   "cell_type": "code",
   "execution_count": 3,
   "metadata": {},
   "outputs": [
    {
     "data": {
      "text/plain": [
       "<__main__.Dog at 0x23ff54d0910>"
      ]
     },
     "execution_count": 3,
     "metadata": {},
     "output_type": "execute_result"
    }
   ],
   "source": [
    "Dog()"
   ]
  },
  {
   "cell_type": "code",
   "execution_count": 20,
   "metadata": {},
   "outputs": [],
   "source": [
    "class Dog:\n",
    "    species = \"Terrier\"\n",
    "    \n",
    "    def __init__(self,name,age):\n",
    "        self.name = name\n",
    "        self.age = age"
   ]
  },
  {
   "cell_type": "code",
   "execution_count": 21,
   "metadata": {},
   "outputs": [],
   "source": [
    "a = Dog('a',10)"
   ]
  },
  {
   "cell_type": "code",
   "execution_count": 22,
   "metadata": {},
   "outputs": [],
   "source": [
    "b = Dog('b',100)\n"
   ]
  },
  {
   "cell_type": "code",
   "execution_count": 23,
   "metadata": {},
   "outputs": [
    {
     "data": {
      "text/plain": [
       "'b'"
      ]
     },
     "execution_count": 23,
     "metadata": {},
     "output_type": "execute_result"
    }
   ],
   "source": [
    "b.name"
   ]
  },
  {
   "cell_type": "code",
   "execution_count": 24,
   "metadata": {},
   "outputs": [
    {
     "data": {
      "text/plain": [
       "100"
      ]
     },
     "execution_count": 24,
     "metadata": {},
     "output_type": "execute_result"
    }
   ],
   "source": [
    "b.age"
   ]
  },
  {
   "cell_type": "code",
   "execution_count": 26,
   "metadata": {},
   "outputs": [
    {
     "data": {
      "text/plain": [
       "'Terrier'"
      ]
     },
     "execution_count": 26,
     "metadata": {},
     "output_type": "execute_result"
    }
   ],
   "source": [
    "b.species"
   ]
  },
  {
   "cell_type": "code",
   "execution_count": 27,
   "metadata": {},
   "outputs": [],
   "source": [
    "b.age = 15"
   ]
  },
  {
   "cell_type": "code",
   "execution_count": 28,
   "metadata": {},
   "outputs": [
    {
     "data": {
      "text/plain": [
       "15"
      ]
     },
     "execution_count": 28,
     "metadata": {},
     "output_type": "execute_result"
    }
   ],
   "source": [
    "b.age"
   ]
  },
  {
   "cell_type": "code",
   "execution_count": 30,
   "metadata": {},
   "outputs": [
    {
     "name": "stdout",
     "output_type": "stream",
     "text": [
      "homo sapiens\n"
     ]
    }
   ],
   "source": [
    "b.species = 'homo sapiens'\n",
    "print(b.species)"
   ]
  },
  {
   "cell_type": "code",
   "execution_count": 52,
   "metadata": {},
   "outputs": [],
   "source": [
    "class Dog1:\n",
    "    species = \"lab\"\n",
    "    \n",
    "    def __init__(self,name,age):\n",
    "        self.name = name\n",
    "        self.age = age\n",
    "    \n",
    "    def __str__(self):\n",
    "        return(f'{self.name} is {self.age} years old')\n",
    "    def sound(self, sound):\n",
    "        return(f'{self.name} says {self.sound}')\n",
    "    def coat_colour(self,coat_colour):\n",
    "        self.coat_colour = coat_colour\n",
    "        "
   ]
  },
  {
   "cell_type": "code",
   "execution_count": 64,
   "metadata": {},
   "outputs": [
    {
     "name": "stdout",
     "output_type": "stream",
     "text": [
      "snoopy is 15 years old\n",
      "snoopy's coat colour is black\n"
     ]
    }
   ],
   "source": [
    "snoopy = Dog1('snoopy',15)\n",
    "snoopy.coat_colour = 'black'\n",
    "print(snoopy)\n",
    "print(f\"{snoopy.name}'s coat colour is {snoopy.coat_colour}\")"
   ]
  },
  {
   "cell_type": "code",
   "execution_count": 66,
   "metadata": {},
   "outputs": [
    {
     "data": {
      "text/plain": [
       "'snoopy says <bound method Dog1.sound of <__main__.Dog1 object at 0x0000023FF55E3A00>>'"
      ]
     },
     "execution_count": 66,
     "metadata": {},
     "output_type": "execute_result"
    }
   ],
   "source": [
    "snoopy.sound('bark')"
   ]
  },
  {
   "cell_type": "code",
   "execution_count": 97,
   "metadata": {},
   "outputs": [],
   "source": [
    "class Car:\n",
    "    def __init__(self, color, mileage):\n",
    "        self.color = color\n",
    "        self.mileage = mileage\n",
    "  \n",
    "    def __str__(self):\n",
    "        return(f'The {self.color} car has {self.mileage} miles')\n",
    "    \n",
    "    \n",
    "    def drive()\n",
    "        "
   ]
  },
  {
   "cell_type": "code",
   "execution_count": 101,
   "metadata": {},
   "outputs": [
    {
     "name": "stdout",
     "output_type": "stream",
     "text": [
      "The blue car has 20000 miles\n"
     ]
    }
   ],
   "source": [
    "blue = Car('blue', 20000)\n",
    "print(blue)"
   ]
  },
  {
   "cell_type": "code",
   "execution_count": 102,
   "metadata": {},
   "outputs": [
    {
     "name": "stdout",
     "output_type": "stream",
     "text": [
      "The red car has 30000 miles\n"
     ]
    }
   ],
   "source": [
    "red = Car('red', 30000)\n",
    "print(red)"
   ]
  },
  {
   "cell_type": "code",
   "execution_count": 83,
   "metadata": {},
   "outputs": [
    {
     "data": {
      "text/plain": [
       "100"
      ]
     },
     "execution_count": 83,
     "metadata": {},
     "output_type": "execute_result"
    }
   ],
   "source": [
    "6"
   ]
  }
 ],
 "metadata": {
  "kernelspec": {
   "display_name": "Python 3",
   "language": "python",
   "name": "python3"
  },
  "language_info": {
   "codemirror_mode": {
    "name": "ipython",
    "version": 3
   },
   "file_extension": ".py",
   "mimetype": "text/x-python",
   "name": "python",
   "nbconvert_exporter": "python",
   "pygments_lexer": "ipython3",
   "version": "3.8.5"
  }
 },
 "nbformat": 4,
 "nbformat_minor": 4
}
